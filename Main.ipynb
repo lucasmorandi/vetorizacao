{
 "cells": [
  {
   "cell_type": "markdown",
   "metadata": {},
   "source": [
    "# Vetorização de Imagens ( Image Tracing)\n"
   ]
  },
  {
   "cell_type": "markdown",
   "metadata": {},
   "source": [
    "### 1. Banco de imagens\n",
    "\n",
    "Começar por formas simples pra testar e depois vamos complicando,\n",
    "alguns exemplos que acho que dariam certo :"
   ]
  },
  {
   "cell_type": "code",
   "execution_count": 1,
   "metadata": {},
   "outputs": [],
   "source": [
    "import numpy as np\n",
    "np.set_printoptions(threshold=100000)   #permite printar todo o array\n",
    "import matplotlib.image as mpimg\n",
    "import matplotlib.pyplot as plt\n",
    "from PIL import Image\n",
    "\n",
    "import skimage.morphology as mm\n",
    "from skimage.segmentation import watershed, join_segmentations\n",
    "from skimage.segmentation import mark_boundaries\n",
    "from skimage.segmentation import find_boundaries"
   ]
  },
  {
   "cell_type": "code",
   "execution_count": 2,
   "metadata": {
    "scrolled": true
   },
   "outputs": [
    {
     "data": {
      "text/plain": [
       "<matplotlib.image.AxesImage at 0x7f8b73d01e90>"
      ]
     },
     "execution_count": 2,
     "metadata": {},
     "output_type": "execute_result"
    },
    {
     "data": {
      "image/png": "[encoded data removed]",
      "text/plain": [
       "<Figure size 432x288 with 1 Axes>"
      ]
     },
     "metadata": {
      "needs_background": "light"
     },
     "output_type": "display_data"
    }
   ],
   "source": [
    "# Abre a imagem exemplo\n",
    "# desenhei no gimp uma linha numa imagem 40x40 pra ficar simples\n",
    "\n",
    "line = Image.open('line.png').convert('L')\n",
    "img = np.array(line)\n",
    "plt.imshow(img, cmap='gray')"
   ]
  },
  {
   "cell_type": "markdown",
   "metadata": {},
   "source": [
    "### 2. Detecção de bordas\n",
    "Revisar os algoritmos que usamos e ver qual se adequa melhor ao nosso objetivo\n",
    "\n",
    "*estou testando watershed*"
   ]
  },
  {
   "cell_type": "code",
   "execution_count": 3,
   "metadata": {},
   "outputs": [
    {
     "data": {
      "text/plain": [
       "Text(0.5, 1.0, 'Imagem segmentada - linha de watershed')"
      ]
     },
     "execution_count": 3,
     "metadata": {},
     "output_type": "execute_result"
    },
    {
     "data": {
      "image/png": "[encoded data removed]",
      "text/plain": [
       "<Figure size 1440x864 with 3 Axes>"
      ]
     },
     "metadata": {
      "needs_background": "light"
     },
     "output_type": "display_data"
    }
   ],
   "source": [
    "markers = np.zeros_like(img)\n",
    "foreground, background = 1, 2 # rótulos para as sementes (objeto = 1 e fundo = 2)\n",
    "markers[img < 100] = background \n",
    "markers[img > 240] = foreground\n",
    "\n",
    "# Cálculo do watershed a partir da imagem e dos marcadores\n",
    "w1 = watershed(img, markers)\n",
    "plt.figure(1, figsize=(20,12))\n",
    "plt.subplot(1,3,1)\n",
    "plt.imshow(img, cmap='gray')\n",
    "plt.title('Imagem Original')\n",
    "plt.subplot(1,3,2)\n",
    "plt.imshow(w1, cmap='gray')\n",
    "plt.title('Imagem rotulada por Watershed')\n",
    "plt.subplot(1,3,3)\n",
    "plt.imshow(mark_boundaries(img,w1))\n",
    "plt.title('Imagem segmentada - linha de watershed')"
   ]
  },
  {
   "cell_type": "markdown",
   "metadata": {},
   "source": [
    "### 3. Algoritmo para detecção das formas básicas (retas/curvas)\n",
    "\n",
    "\n",
    "* Detectar pontos de conexão (cantos) e descontinuidades nas formas\n",
    "\n",
    "\n",
    "* Utilizar uma função de Fit para gerar as equações (podemos começar só com retas e equações de segundo grau) da reta/curva que interliga cada segmento \n",
    "entre 2 pontos\n",
    "\n",
    "\n",
    "\n",
    "* Calcular o erro gerado por cada aproximação e escolher o menor\n",
    " \texemplo  P1 (35, 12)  ->    6.4x² - 2.65x + 0.12 \t ->   P2(52, 46)  \n",
    "    \n",
    "    \n",
    "    \n",
    "* Armazenar numa estrutura de dados os pontos e equações \n",
    "\n",
    "\n"
   ]
  },
  {
   "cell_type": "markdown",
   "metadata": {},
   "source": [
    "### 4.Plotar as formas\n",
    "Pesquisar uma função de plot que plote uma equação num intervalo de 2 pontos\n",
    "Iterar a função para todos os segmentos, plotando todos no mesmo gráfico\n",
    "\n",
    "Exportar a imagem final (será que da pra fazer um pdf ou sgv?)"
   ]
  },
  {
   "cell_type": "code",
   "execution_count": 4,
   "metadata": {},
   "outputs": [],
   "source": [
    "# Obtem os índices (edgeX e edgeY) de todos os pixels que representam bordas\n",
    "edges = find_boundaries(img) \n",
    "edges_index = np.nonzero(edges == True)\n",
    "edgeX = edges_index[0]\n",
    "edgeY = np.flip(edges_index[1])              # flip para coincidir com a orientação do plot\n",
    "#np.transpose(edges_index)                   # para observar melhor os indices"
   ]
  },
  {
   "cell_type": "code",
   "execution_count": 6,
   "metadata": {
    "scrolled": true
   },
   "outputs": [
    {
     "data": {
      "text/plain": [
       "[<matplotlib.lines.Line2D at 0x7f8b7342e390>]"
      ]
     },
     "execution_count": 6,
     "metadata": {},
     "output_type": "execute_result"
    },
    {
     "data": {
      "image/png": "[encoded data removed]",
      "text/plain": [
       "<Figure size 432x288 with 1 Axes>"
      ]
     },
     "metadata": {
      "needs_background": "light"
     },
     "output_type": "display_data"
    }
   ],
   "source": [
    "# Fit dos pontos\n",
    "fit = np.polyfit(edgeX, edgeY, 1)       # O 1 representa o grau do polinomio usado no fit (funciona pra qualquer grau)\n",
    "f = np.poly1d(fit)                      # Para poder chamar f(x)\n",
    "\n",
    "# plota os pontos e a curva de ajuste\n",
    "plt.xlim(0, img.shape[0])\n",
    "plt.ylim(0, img.shape[1])\n",
    "plt.plot(edgeX, edgeY, 'o', label=\"Data\")            # plota os pontos das bordas\n",
    "plt.plot(edgeX, f(edgeX), 'b-', label=\"Polyfit\")     # plota o ajuste"
   ]
  },
  {
   "cell_type": "code",
   "execution_count": 13,
   "metadata": {},
   "outputs": [
    {
     "data": {
      "text/plain": [
       "Text(0.5, 1.0, 'Versao Vetorizada')"
      ]
     },
     "execution_count": 13,
     "metadata": {},
     "output_type": "execute_result"
    },
    {
     "data": {
      "image/png": "[encoded data removed]",
      "text/plain": [
       "<Figure size 1152x504 with 2 Axes>"
      ]
     },
     "metadata": {
      "needs_background": "light"
     },
     "output_type": "display_data"
    }
   ],
   "source": [
    "# a versao vetorizada ficaria assim: \n",
    "\n",
    "plt.figure(1, figsize=(16,7))\n",
    "\n",
    "plt.subplot(1,2,1)\n",
    "plt.imshow(img, cmap='gray')\n",
    "plt.title('Imagem Original')\n",
    "\n",
    "plt.subplot(1,2,2)\n",
    "plt.xlim(0, img.shape[0])\n",
    "plt.ylim(0, img.shape[1]) \n",
    "plt.plot(edgeX, f(edgeX), 'b-', label=\"Polyfit\")\n",
    "plt.title('Versao Vetorizada')"
   ]
  },
  {
   "cell_type": "markdown",
   "metadata": {},
   "source": [
    "Alguns links que podem ajudar\n",
    "http://www.imageprocessingplace.com/downloads_V3/root_downloads/tutorials/contour_tracing_Abeer_George_Ghuneim/moore.html\n",
    "https://www.reddit.com/r/Python/comments/f2kv1/question_on_tracing_an_image_in_python_with_pil/\n",
    "https://stackoverflow.com/questions/9137216/python-edge-detection-and-curvature-calculation\n"
   ]
  }
 ],
 "metadata": {
  "kernelspec": {
   "display_name": "Python 3",
   "language": "python",
   "name": "python3"
  },
  "language_info": {
   "codemirror_mode": {
    "name": "ipython",
    "version": 3
   },
   "file_extension": ".py",
   "mimetype": "text/x-python",
   "name": "python",
   "nbconvert_exporter": "python",
   "pygments_lexer": "ipython3",
   "version": "3.7.6"
  }
 },
 "nbformat": 4,
 "nbformat_minor": 4
}
